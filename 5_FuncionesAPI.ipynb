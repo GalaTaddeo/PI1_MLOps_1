{
 "cells": [
  {
   "cell_type": "markdown",
   "metadata": {},
   "source": [
    "# 🚀​ Funciones requeridas para la API"
   ]
  },
  {
   "cell_type": "markdown",
   "metadata": {},
   "source": [
    "En este notebook se desarrollan y prueban las funciones que son solicitadas para la API. Luego, al momento de deployarlas es posible que sufran algunos cambios en función de los requerimientos propios de FastAPI o Render."
   ]
  },
  {
   "cell_type": "markdown",
   "metadata": {},
   "source": [
    "#### 📥Importaciones "
   ]
  },
  {
   "cell_type": "code",
   "execution_count": 13,
   "metadata": {},
   "outputs": [],
   "source": [
    "import pandas as pd \n",
    "import json"
   ]
  },
  {
   "cell_type": "markdown",
   "metadata": {},
   "source": [
    "#### 📦 Extracción de los dataset necesarios"
   ]
  },
  {
   "cell_type": "markdown",
   "metadata": {},
   "source": [
    "Se cargan los conjuntos de datos necesarios para llevar a cabo las consultas solicitadas. Se decide subir los datos de esta manera, y no los dataset completos, debido a la limitada capacidad de almacenamiento que permite Render. Por otra parte, considerando que el objetivo es entregar un PVM, a modo de prueba de concepto, se consideró adecuada esta simplificación de los datasets.\n",
    "\n",
    "Los  dataset que se utilizan son:\n",
    "\n",
    "* **df_games_unido**: contiene datos relacionados con los juegos en sí, como los títulos, el desarrollador, los precios, las características técnicas, las etiquetas, entre otros datos.\n",
    "* **df_items_unido**: contiene la información sobre los juegos que juegan todos los usuarios, así como el tiempo acumulado que cada usuario jugó a un determinado juego.\n",
    "* **df_reviews_unido**: contiene la información relacionada a los usuarios que realizan reviews de los juegos en formato de análisis de sentimientos. Entre esta información, se encuentran las recomendaciones o no del juego por parte de usuario, la fecha del review así como datos del usuario como su id, su url del perfil."
   ]
  },
  {
   "cell_type": "code",
   "execution_count": 2,
   "metadata": {},
   "outputs": [],
   "source": [
    "df_juegos = pd.read_csv('data/df_games_unido.csv')\n",
    "df_items = pd.read_csv('data/df_items_unido.csv')\n",
    "df_reviews = pd.read_csv('data/df_reviews_unido.csv')"
   ]
  },
  {
   "cell_type": "markdown",
   "metadata": {},
   "source": [
    "A continuación, se desarrollan cada una de las funciones solicitadas."
   ]
  },
  {
   "cell_type": "markdown",
   "metadata": {},
   "source": [
    "* PlayTimeGenre"
   ]
  },
  {
   "cell_type": "markdown",
   "metadata": {},
   "source": [
    "Se crea la función 'PlayTimeGenre' que debe devolver el año con mas horas jugadas para dicho género."
   ]
  },
  {
   "cell_type": "code",
   "execution_count": 3,
   "metadata": {},
   "outputs": [],
   "source": [
    "def PlayTimeGenre(genero, df_juegos, df_items):\n",
    "    # Se filtra el DataFrame de juegos por el género dado\n",
    "    juegos_genero = df_juegos[df_juegos['genres'].str.contains(genero)]\n",
    "\n",
    "    # Se combinan los DataFrames de juegos y items en función del id\n",
    "    df_combinado = pd.merge(df_items, juegos_genero, left_on='item_id', right_on='id')\n",
    "\n",
    "    # Se encuentra el año con más horas jugadas para el género dado\n",
    "    year_most_played = df_combinado.groupby('release_anio')['playtime_forever'].sum().idxmax()\n",
    "\n",
    "    return {\"Año de lanzamiento con más horas jugadas para \" + genero: year_most_played}"
   ]
  },
  {
   "cell_type": "code",
   "execution_count": 4,
   "metadata": {},
   "outputs": [
    {
     "data": {
      "text/plain": [
       "{'Año de lanzamiento con más horas jugadas para Action': '2012'}"
      ]
     },
     "execution_count": 4,
     "metadata": {},
     "output_type": "execute_result"
    }
   ],
   "source": [
    "PlayTimeGenre('Action', df_juegos, df_items)"
   ]
  },
  {
   "cell_type": "markdown",
   "metadata": {},
   "source": [
    "* UserForGenre"
   ]
  },
  {
   "cell_type": "markdown",
   "metadata": {},
   "source": [
    "Se crea la función 'UserForGenre' que debe devolver el usuario que acumula más horas jugadas para el género dado y una lista de la acumulación de horas jugadas por año."
   ]
  },
  {
   "cell_type": "code",
   "execution_count": 5,
   "metadata": {},
   "outputs": [],
   "source": [
    "def UserForGenre(genero, df_juegos, df_items):\n",
    "    # Se filtra el DataFrame de juegos por el género dado\n",
    "    juegos_genero = df_juegos[df_juegos['genres'].str.contains(genero)]\n",
    "\n",
    "    # Se combinan los DataFrames de juegos y items en función del id\n",
    "    df_combinado = pd.merge(df_items, juegos_genero, left_on='item_id', right_on='id')\n",
    "\n",
    "    # Se encuentra el usuario con más horas jugadas para el género dado\n",
    "    user_most_played = df_combinado.groupby('user_id')['playtime_forever'].sum().idxmax()\n",
    "\n",
    "    # Se acumulan las horas jugadas por año para el usuario más activo en ese género\n",
    "    horas_por_anio = df_combinado[df_combinado['user_id'] == user_most_played].groupby('release_anio')['playtime_forever'].sum().reset_index()\n",
    "    lista_horas_anio = [{\"Año\": year, \"Horas\": hours} for year, hours in zip(horas_por_anio['release_anio'], horas_por_anio['playtime_forever'])]\n",
    "\n",
    "    return {\"Usuario con más horas jugadas para \" + genero: user_most_played, \"Horas jugadas\": lista_horas_anio}"
   ]
  },
  {
   "cell_type": "code",
   "execution_count": 6,
   "metadata": {},
   "outputs": [
    {
     "data": {
      "text/plain": [
       "{'Usuario con más horas jugadas para Casual': 'REBAS_AS_F-T',\n",
       " 'Horas jugadas': [{'Año': '1999', 'Horas': 0},\n",
       "  {'Año': '2002', 'Horas': 0},\n",
       "  {'Año': '2004', 'Horas': 6985},\n",
       "  {'Año': '2007', 'Horas': 0},\n",
       "  {'Año': '2008', 'Horas': 1241},\n",
       "  {'Año': '2009', 'Horas': 2870},\n",
       "  {'Año': '2010', 'Horas': 12066},\n",
       "  {'Año': '2011', 'Horas': 81201},\n",
       "  {'Año': '2012', 'Horas': 29722},\n",
       "  {'Año': '2013', 'Horas': 107965},\n",
       "  {'Año': '2014', 'Horas': 122364},\n",
       "  {'Año': '2015', 'Horas': 362201},\n",
       "  {'Año': '2016', 'Horas': 498260},\n",
       "  {'Año': '2017', 'Horas': 58},\n",
       "  {'Año': 'Dato no disponible', 'Horas': 0}]}"
      ]
     },
     "execution_count": 6,
     "metadata": {},
     "output_type": "execute_result"
    }
   ],
   "source": [
    "UserForGenre('Casual', df_juegos, df_items)"
   ]
  },
  {
   "cell_type": "markdown",
   "metadata": {},
   "source": [
    "* UsersRecommend"
   ]
  },
  {
   "cell_type": "markdown",
   "metadata": {},
   "source": [
    "Se crea la función 'UsersRecommend' que devuelve el top 3 de juegos MÁS recomendados por usuarios para el año dado."
   ]
  },
  {
   "cell_type": "code",
   "execution_count": 7,
   "metadata": {},
   "outputs": [],
   "source": [
    "def UsersRecommend(año, df_reviews):\n",
    "    # Se filtran las reviews para el año dado y que sean positivas o neutrales\n",
    "    reviews_año = df_reviews[df_reviews['release_anio'] == año]\n",
    "    reviews_positivas_neutrales = reviews_año[reviews_año['sentiment_analysis'] >= 1]\n",
    "\n",
    "    # Se cuentan las recomendaciones por juego\n",
    "    recomendaciones_por_juego = reviews_positivas_neutrales[reviews_positivas_neutrales['reviews_recommend'] == True]['title'].value_counts().reset_index()\n",
    "    recomendaciones_por_juego.columns = ['Juego', 'reviews_recommend']\n",
    "\n",
    "    # Se obtiene el top 3 de juegos más recomendados\n",
    "    top_3_juegos = recomendaciones_por_juego.head(3).to_dict('records')\n",
    "\n",
    "    return [{\"Puesto \" + str(idx + 1): juego} for idx, juego in enumerate(top_3_juegos)]"
   ]
  },
  {
   "cell_type": "code",
   "execution_count": 8,
   "metadata": {},
   "outputs": [
    {
     "data": {
      "text/plain": [
       "[{'Puesto 1': {'Juego': 'Unturned', 'reviews_recommend': 874}},\n",
       " {'Puesto 2': {'Juego': 'Robocraft', 'reviews_recommend': 241}},\n",
       " {'Puesto 3': {'Juego': 'ARK: Survival Evolved', 'reviews_recommend': 215}}]"
      ]
     },
     "execution_count": 8,
     "metadata": {},
     "output_type": "execute_result"
    }
   ],
   "source": [
    "UsersRecommend('2017', df_reviews)"
   ]
  },
  {
   "cell_type": "markdown",
   "metadata": {},
   "source": [
    "* UsersWorstDeveloper"
   ]
  },
  {
   "cell_type": "markdown",
   "metadata": {},
   "source": [
    "Se crea la función 'UsersWorstDeveloper' que devuelve el top 3 de desarrolladoras con juegos MENOS recomendados por usuarios para el año dado."
   ]
  },
  {
   "cell_type": "code",
   "execution_count": 9,
   "metadata": {},
   "outputs": [],
   "source": [
    "def UsersWorstDeveloper(año, df_reviews):\n",
    "    # Se filtran las reviews para el año dado, que sean negativas y no recomendadas\n",
    "    reviews_año = df_reviews[df_reviews['release_anio'] == año]\n",
    "    reviews_negativas_no_recomendadas = reviews_año[(reviews_año['sentiment_analysis'] == 0) & (reviews_año['reviews_recommend'] == False)]\n",
    "\n",
    "    # Se cuentan las recomendaciones por desarrollador\n",
    "    recomendaciones_por_desarrollador = reviews_negativas_no_recomendadas['developer'].value_counts().reset_index()\n",
    "    recomendaciones_por_desarrollador.columns = ['Desarrollador', 'Count']\n",
    "\n",
    "    # Se obtiene el top 3 de desarrolladoras con menos recomendaciones negativas\n",
    "    top_3_desarrolladoras = recomendaciones_por_desarrollador.tail(3).to_dict('records')\n",
    "\n",
    "    return [{\"Puesto \" + str(idx + 1): desarrollador} for idx, desarrollador in enumerate(top_3_desarrolladoras)]"
   ]
  },
  {
   "cell_type": "code",
   "execution_count": 10,
   "metadata": {},
   "outputs": [
    {
     "data": {
      "text/plain": [
       "[{'Puesto 1': {'Desarrollador': 'oddonegames', 'Count': 1}},\n",
       " {'Puesto 2': {'Desarrollador': 'Pixel Dash Studios, EQgames', 'Count': 1}},\n",
       " {'Puesto 3': {'Desarrollador': 'Alientrap', 'Count': 1}}]"
      ]
     },
     "execution_count": 10,
     "metadata": {},
     "output_type": "execute_result"
    }
   ],
   "source": [
    "UsersWorstDeveloper('2017', df_reviews)"
   ]
  },
  {
   "cell_type": "markdown",
   "metadata": {},
   "source": [
    "* SentimentAnalysis"
   ]
  },
  {
   "cell_type": "markdown",
   "metadata": {},
   "source": [
    "Se crea la función 'sentiment_analysis' que según la empresa desarrolladora, se devuelve un diccionario con el nombre de la desarrolladora como llave y una lista con la cantidad total de registros de reseñas de usuarios que se encuentren categorizados con un análisis de sentimiento como valor."
   ]
  },
  {
   "cell_type": "code",
   "execution_count": 11,
   "metadata": {},
   "outputs": [],
   "source": [
    "def sentiment_analysis(empresa_desarrolladora, df_reviews):\n",
    "    # Se transforman los valores de 'sentiment_analysis' a las categorías de sentimientos\n",
    "    mapeo_sentimientos = {0: 'Negativo', 1: 'Neutral', 2: 'Positivo'}\n",
    "    df_reviews['sentiment_analysis'] = df_reviews['sentiment_analysis'].map(mapeo_sentimientos)\n",
    "\n",
    "    # Se filtran las reviews por la empresa desarrolladora dada\n",
    "    reviews_empresa = df_reviews[df_reviews['developer'] == empresa_desarrolladora]\n",
    "\n",
    "    # Se cuenta el número de reviews en cada categoría de análisis de sentimientos\n",
    "    conteo_sentimientos = reviews_empresa['sentiment_analysis'].value_counts().to_dict()\n",
    "\n",
    "    # Se crea el diccionario de salida\n",
    "    salida = {empresa_desarrolladora: conteo_sentimientos}\n",
    "\n",
    "    return salida"
   ]
  },
  {
   "cell_type": "code",
   "execution_count": 12,
   "metadata": {},
   "outputs": [
    {
     "data": {
      "text/plain": [
       "{'Valve': {'Neutral': 5503, 'Positivo': 3222, 'Negativo': 711}}"
      ]
     },
     "execution_count": 12,
     "metadata": {},
     "output_type": "execute_result"
    }
   ],
   "source": [
    "sentiment_analysis('Valve', df_reviews)"
   ]
  }
 ],
 "metadata": {
  "kernelspec": {
   "display_name": "Python 3",
   "language": "python",
   "name": "python3"
  },
  "language_info": {
   "codemirror_mode": {
    "name": "ipython",
    "version": 3
   },
   "file_extension": ".py",
   "mimetype": "text/x-python",
   "name": "python",
   "nbconvert_exporter": "python",
   "pygments_lexer": "ipython3",
   "version": "3.12.1"
  }
 },
 "nbformat": 4,
 "nbformat_minor": 2
}
